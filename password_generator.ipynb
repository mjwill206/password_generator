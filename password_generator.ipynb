{
 "cells": [
  {
   "cell_type": "code",
   "execution_count": null,
   "metadata": {},
   "outputs": [],
   "source": [
    "import random\n",
    "\n",
    "lowercase = \"abcdefghijklmnopqrstuvwxyz\"\n",
    "uppercase = lowercase.upper()\n",
    "letters = lowercase + uppercase\n",
    "numbers = \"1234567890\" * 3\n",
    "symbols = \"`~!@#$%^&*()_+{}|[]\\\"\\:;'?><,./'\"\n",
    "characters = letters + numbers\n",
    "\n",
    "length = input(\"How many characters are required for your password?\\n\")\n",
    "print()\n",
    "symbols_allowed = input(\"Are symbols allowed? (y or n)\\n\")\n",
    "if symbols_allowed == \"y\":\n",
    "    characters += symbols\n",
    "print()\n",
    "\n",
    "first_char = random.choice(letters)\n",
    "remaining_chars = \"\".join(random.sample(characters, int(length) - 1))\n",
    "password = first_char + remaining_chars\n",
    "\n",
    "print()\n",
    "print(f'Your new password is {password}')"
   ]
  },
  {
   "cell_type": "code",
   "execution_count": null,
   "metadata": {},
   "outputs": [],
   "source": []
  }
 ],
 "metadata": {
  "kernelspec": {
   "display_name": "Python 3",
   "language": "python",
   "name": "python3"
  },
  "language_info": {
   "codemirror_mode": {
    "name": "ipython",
    "version": 3
   },
   "file_extension": ".py",
   "mimetype": "text/x-python",
   "name": "python",
   "nbconvert_exporter": "python",
   "pygments_lexer": "ipython3",
   "version": "3.7.6"
  }
 },
 "nbformat": 4,
 "nbformat_minor": 4
}
